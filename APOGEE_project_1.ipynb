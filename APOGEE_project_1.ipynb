{
 "cells": [
  {
   "cell_type": "code",
   "execution_count": 1,
   "metadata": {},
   "outputs": [],
   "source": [
    "%matplotlib inline"
   ]
  },
  {
   "cell_type": "code",
   "execution_count": 2,
   "metadata": {},
   "outputs": [
    {
     "ename": "ImportError",
     "evalue": "No module named pandas",
     "output_type": "error",
     "traceback": [
      "\u001b[0;31m---------------------------------------------------------------------------\u001b[0m",
      "\u001b[0;31mImportError\u001b[0m                               Traceback (most recent call last)",
      "\u001b[0;32m<ipython-input-2-7504220a514d>\u001b[0m in \u001b[0;36m<module>\u001b[0;34m()\u001b[0m\n\u001b[1;32m      1\u001b[0m \u001b[0;32mimport\u001b[0m \u001b[0mmatplotlib\u001b[0m\u001b[0;34m.\u001b[0m\u001b[0mpyplot\u001b[0m \u001b[0;32mas\u001b[0m \u001b[0mplt\u001b[0m\u001b[0;34m\u001b[0m\u001b[0m\n\u001b[1;32m      2\u001b[0m \u001b[0;32mimport\u001b[0m \u001b[0mnumpy\u001b[0m \u001b[0;32mas\u001b[0m \u001b[0mnp\u001b[0m\u001b[0;34m\u001b[0m\u001b[0m\n\u001b[0;32m----> 3\u001b[0;31m \u001b[0;32mimport\u001b[0m \u001b[0mpandas\u001b[0m \u001b[0;32mas\u001b[0m \u001b[0mpd\u001b[0m\u001b[0;34m\u001b[0m\u001b[0m\n\u001b[0m\u001b[1;32m      4\u001b[0m \u001b[0;31m#kernel density estimation\u001b[0m\u001b[0;34m\u001b[0m\u001b[0;34m\u001b[0m\u001b[0m\n\u001b[1;32m      5\u001b[0m \u001b[0;32mfrom\u001b[0m \u001b[0mscipy\u001b[0m\u001b[0;34m.\u001b[0m\u001b[0mstats\u001b[0m \u001b[0;32mimport\u001b[0m \u001b[0mgaussian_kde\u001b[0m\u001b[0;34m\u001b[0m\u001b[0m\n",
      "\u001b[0;31mImportError\u001b[0m: No module named pandas"
     ]
    }
   ],
   "source": [
    "import matplotlib.pyplot as plt\n",
    "import numpy as np\n",
    "import pandas as pd\n",
    "#kernel density estimation\n",
    "from scipy.stats import gaussian_kde\n",
    "plt.rcParams['figure.figsize'] = [10, 5]"
   ]
  },
  {
   "cell_type": "code",
   "execution_count": null,
   "metadata": {
    "scrolled": true
   },
   "outputs": [],
   "source": [
    "#read in files x, y, z, and metallicity\n",
    "#in kpc, x from the position of our sun to GC.\n",
    "df=pd.read_csv('df2.txt')"
   ]
  },
  {
   "cell_type": "code",
   "execution_count": null,
   "metadata": {
    "scrolled": true
   },
   "outputs": [],
   "source": [
    "#read each column\n",
    "x=df['X'].tolist()\n",
    "y=df['Y'].tolist()\n",
    "z=df['Z'].tolist()"
   ]
  },
  {
   "cell_type": "raw",
   "metadata": {
    "raw_mimetype": "text/latex"
   },
   "source": [
    "1. KDE plot for all samples from APOGEE"
   ]
  },
  {
   "cell_type": "code",
   "execution_count": 3,
   "metadata": {
    "scrolled": true
   },
   "outputs": [
    {
     "ename": "NameError",
     "evalue": "name 'x' is not defined",
     "output_type": "error",
     "traceback": [
      "\u001b[0;31m---------------------------------------------------------------------------\u001b[0m",
      "\u001b[0;31mNameError\u001b[0m                                 Traceback (most recent call last)",
      "\u001b[0;32m<ipython-input-3-92d134c0a134>\u001b[0m in \u001b[0;36m<module>\u001b[0;34m()\u001b[0m\n\u001b[1;32m      1\u001b[0m \u001b[0;31m#create data\u001b[0m\u001b[0;34m\u001b[0m\u001b[0;34m\u001b[0m\u001b[0m\n\u001b[0;32m----> 2\u001b[0;31m \u001b[0mdata\u001b[0m \u001b[0;34m=\u001b[0m \u001b[0mnp\u001b[0m\u001b[0;34m.\u001b[0m\u001b[0mvstack\u001b[0m\u001b[0;34m(\u001b[0m\u001b[0;34m[\u001b[0m\u001b[0mx\u001b[0m\u001b[0;34m,\u001b[0m \u001b[0my\u001b[0m\u001b[0;34m]\u001b[0m\u001b[0;34m)\u001b[0m\u001b[0;34m\u001b[0m\u001b[0m\n\u001b[0m\u001b[1;32m      3\u001b[0m \u001b[0mnbins\u001b[0m\u001b[0;34m=\u001b[0m\u001b[0;36m40\u001b[0m\u001b[0;34m\u001b[0m\u001b[0m\n\u001b[1;32m      4\u001b[0m \u001b[0;34m\u001b[0m\u001b[0m\n\u001b[1;32m      5\u001b[0m \u001b[0;31m# Evaluate a gaussian kde on a regular grid of nbins x nbins over data extents\u001b[0m\u001b[0;34m\u001b[0m\u001b[0;34m\u001b[0m\u001b[0m\n",
      "\u001b[0;31mNameError\u001b[0m: name 'x' is not defined"
     ]
    }
   ],
   "source": [
    "#create data\n",
    "data = np.vstack([x, y])\n",
    "nbins=40\n",
    "\n",
    "# Evaluate a gaussian kde on a regular grid of nbins x nbins over data extents\n",
    "k = gaussian_kde(data)\n",
    "xi, yi = np.mgrid[np.min(x):np.max(x):nbins*1j, np.min(y):np.max(y):nbins*1j]\n",
    "zi = k(np.vstack([xi.flatten(), yi.flatten()]))\n",
    "\n",
    "# contour\n",
    "plt.title('Number Density',fontsize=18)\n",
    "plt.xlabel('X (kpc)')\n",
    "plt.ylabel('Y (kpc)')\n",
    "gci=plt.pcolormesh(xi, yi, zi.reshape(xi.shape), shading='gouraud', cmap='rainbow')\n",
    "plt.contour(xi, yi, zi.reshape(xi.shape))\n",
    "plt.colorbar(gci)\n",
    "plt.show()"
   ]
  },
  {
   "cell_type": "raw",
   "metadata": {
    "raw_mimetype": "text/latex"
   },
   "source": [
    "# https://python-graph-gallery.com/86-avoid-overlapping-in-scatterplot-with-2d-density/\n",
    "#create data\n",
    "data = np.vstack([x, y])\n",
    "\n",
    "# Create a figure with 6 plot areas\n",
    "fig, axes = plt.subplots(ncols=6, nrows=1, figsize=(21, 5))\n",
    "\n",
    "# Everything sarts with a Scatterplot\n",
    "axes[0].set_title('Scatterplot')\n",
    "axes[0].plot(x, y, 'ko')\n",
    "# As you can see there is a lot of overplottin here!\n",
    "\n",
    "# Thus we can cut the plotting window in several hexbins\n",
    "nbins = 40\n",
    "axes[1].set_title('Hexbin')\n",
    "axes[1].hexbin(x, y, gridsize=nbins, cmap='rainbow')\n",
    " \n",
    "# 2D Histogram\n",
    "axes[2].set_title('2D Histogram')\n",
    "axes[2].hist2d(x, y, bins=nbins, cmap='rainbow')\n",
    " \n",
    "# Evaluate a gaussian kde on a regular grid of nbins x nbins over data extents\n",
    "k = gaussian_kde(data)\n",
    "xi, yi = np.mgrid[x.min():x.max():nbins*1j, y.min():y.max():nbins*1j]\n",
    "zi = k(np.vstack([xi.flatten(), yi.flatten()]))\n",
    " \n",
    "# plot a density\n",
    "axes[3].set_title('Calculate Gaussian KDE')\n",
    "axes[3].pcolormesh(xi, yi, zi.reshape(xi.shape), cmap='rainbow')\n",
    " \n",
    "# add shading\n",
    "axes[4].set_title('2D Density with shading')\n",
    "axes[4].pcolormesh(xi, yi, zi.reshape(xi.shape), shading='gouraud', cmap='rainbow')\n",
    "\n",
    "# contour\n",
    "axes[5].set_title('Contour')\n",
    "axes[5].pcolormesh(xi, yi, zi.reshape(xi.shape), shading='gouraud', cmap='rainbow')\n",
    "axes[5].contour(xi, yi, zi.reshape(xi.shape))"
   ]
  },
  {
   "cell_type": "code",
   "execution_count": 4,
   "metadata": {},
   "outputs": [],
   "source": [
    "# pop1: 0 < z < 0.3 kpc\n",
    "def pop1(array1, array2):\n",
    "    x = []\n",
    "    for i in range(len(array2)):\n",
    "        if (0<array2[i]<0.6):\n",
    "            x.append(array1[i])\n",
    "    return x"
   ]
  },
  {
   "cell_type": "code",
   "execution_count": 5,
   "metadata": {
    "scrolled": true
   },
   "outputs": [
    {
     "ename": "NameError",
     "evalue": "name 'x' is not defined",
     "output_type": "error",
     "traceback": [
      "\u001b[0;31m---------------------------------------------------------------------------\u001b[0m",
      "\u001b[0;31mNameError\u001b[0m                                 Traceback (most recent call last)",
      "\u001b[0;32m<ipython-input-5-e6411239d25f>\u001b[0m in \u001b[0;36m<module>\u001b[0;34m()\u001b[0m\n\u001b[1;32m      1\u001b[0m \u001b[0;31m#pop1\u001b[0m\u001b[0;34m\u001b[0m\u001b[0;34m\u001b[0m\u001b[0m\n\u001b[0;32m----> 2\u001b[0;31m \u001b[0mx\u001b[0m\u001b[0;34m=\u001b[0m\u001b[0mpop1\u001b[0m\u001b[0;34m(\u001b[0m\u001b[0mx\u001b[0m\u001b[0;34m,\u001b[0m\u001b[0mz\u001b[0m\u001b[0;34m)\u001b[0m\u001b[0;34m\u001b[0m\u001b[0m\n\u001b[0m\u001b[1;32m      3\u001b[0m \u001b[0my\u001b[0m\u001b[0;34m=\u001b[0m\u001b[0mpop1\u001b[0m\u001b[0;34m(\u001b[0m\u001b[0my\u001b[0m\u001b[0;34m,\u001b[0m\u001b[0mz\u001b[0m\u001b[0;34m)\u001b[0m\u001b[0;34m\u001b[0m\u001b[0m\n\u001b[1;32m      4\u001b[0m \u001b[0mnbins\u001b[0m\u001b[0;34m=\u001b[0m\u001b[0;36m40\u001b[0m\u001b[0;34m\u001b[0m\u001b[0m\n\u001b[1;32m      5\u001b[0m \u001b[0;34m\u001b[0m\u001b[0m\n",
      "\u001b[0;31mNameError\u001b[0m: name 'x' is not defined"
     ]
    }
   ],
   "source": [
    "#pop1\n",
    "x=pop1(x,z)\n",
    "y=pop1(y,z)\n",
    "nbins=40\n",
    "\n",
    "plt.title('Number Density (Z = 0~0.6 kpc)',fontsize=18)\n",
    "plt.xlabel('X (kpc)')\n",
    "plt.ylabel('Y (kpc)')\n",
    "plt.hist2d(x, y, bins=nbins, cmap='Blues')\n",
    "plt.show()"
   ]
  },
  {
   "cell_type": "raw",
   "metadata": {},
   "source": [
    "Still biased to one side (need better sample to reshape the region)"
   ]
  }
 ],
 "metadata": {
  "kernelspec": {
   "display_name": "Python 2",
   "language": "python",
   "name": "python2"
  },
  "language_info": {
   "codemirror_mode": {
    "name": "ipython",
    "version": 2
   },
   "file_extension": ".py",
   "mimetype": "text/x-python",
   "name": "python",
   "nbconvert_exporter": "python",
   "pygments_lexer": "ipython2",
   "version": "2.7.10"
  }
 },
 "nbformat": 4,
 "nbformat_minor": 2
}
